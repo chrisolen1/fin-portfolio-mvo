{
 "cells": [
  {
   "cell_type": "code",
   "execution_count": 108,
   "metadata": {},
   "outputs": [],
   "source": [
    "using JuMP, Ipopt, DelimitedFiles"
   ]
  },
  {
   "cell_type": "code",
   "execution_count": 119,
   "metadata": {},
   "outputs": [
    {
     "data": {
      "text/plain": [
       "(4, 4)"
      ]
     },
     "execution_count": 119,
     "metadata": {},
     "output_type": "execute_result"
    }
   ],
   "source": [
    "# estimated returns\n",
    "\n",
    "mu = readdlm(\"tmp/mu.txt\")\n",
    "mu\n",
    "\n",
    "# var-cov matrix\n",
    "\n",
    "sigma = readdlm(\"tmp/sigma.txt\")\n",
    "sigma\n",
    "\n",
    "# risk aversion\n",
    "\n",
    "delta = readdlm(\"tmp/delta.txt\")[1]\n",
    "delta\n",
    "\n",
    "# minimum allowable weight\n",
    "\n",
    "min_weight = readdlm(\"tmp/min_weight.txt\")[1]\n",
    "min_weight\n",
    "\n",
    "# number of assets\n",
    "\n",
    "n,k = size(sigma)"
   ]
  },
  {
   "cell_type": "code",
   "execution_count": 114,
   "metadata": {},
   "outputs": [
    {
     "name": "stdout",
     "output_type": "stream",
     "text": [
      "Max (0.534 * x[1] + 0.99956567456 * x[2] + 0.45643 * x[3] + 0.5647967865 * x[4]) - ((1.5 * 1.0) / 2.0) * (x[1] * 0.0020350334566477408 * x[1] + x[1] * -0.0001426940296686862 * x[2] + x[1] * -0.00018053269474032493 * x[3] + x[1] * -0.0001765877124692553 * x[4] + x[2] * -0.0001426940296686862 * x[1] + x[2] * 5.5266918957474145e-5 * x[2] + x[2] * -5.039890672665373e-5 * x[3] + x[2] * 8.416838553674673e-7 * x[4] + x[3] * -0.00018053269474032493 * x[1] + x[3] * -5.039890672665373e-5 * x[2] + x[3] * 0.00014341919083353267 * x[3] + x[3] * 5.9216674040050585e-5 * x[4] + x[4] * -0.0001765877124692553 * x[1] + x[4] * 8.416838553674673e-7 * x[2] + x[4] * 5.9216674040050585e-5 * x[3] + x[4] * 0.00011943683403042923 * x[4])\n",
      "Subject to\n",
      " x[1] ≥ 0.1\n",
      " x[2] ≥ 0.1\n",
      " x[3] ≥ 0.1\n",
      " x[4] ≥ 0.1\n",
      " (x[1] + x[2] + x[3] + x[4]) - 1.0 = 0\n"
     ]
    }
   ],
   "source": [
    "# initialize model\n",
    "model = Model(with_optimizer(Ipopt.Optimizer))\n",
    "\n",
    "# weights must be >= min_weight the volume of the portfolio\n",
    "@variable(model, x[1:n]>=min_weight) \n",
    "\n",
    "# define objective function\n",
    "@NLobjective(model, Max, sum(mu[i]*x[i] for i=1:n) - ((delta*1/2)*sum(x[i]*sigma[i,j]*x[j] for i=1:n for j=1:n))) \n",
    "\n",
    "# weights must sum up to one\n",
    "@NLconstraint(model, sum(x[i] for i=1:n)==1)                \n",
    "\n",
    "print(model)\n",
    "                \n"
   ]
  },
  {
   "cell_type": "code",
   "execution_count": 115,
   "metadata": {},
   "outputs": [
    {
     "name": "stdout",
     "output_type": "stream",
     "text": [
      "This is Ipopt version 3.12.10, running with linear solver mumps.\n",
      "NOTE: Other linear solvers might be more efficient (see Ipopt documentation).\n",
      "\n",
      "Number of nonzeros in equality constraint Jacobian...:        4\n",
      "Number of nonzeros in inequality constraint Jacobian.:        0\n",
      "Number of nonzeros in Lagrangian Hessian.............:       10\n",
      "\n",
      "Total number of variables............................:        4\n",
      "                     variables with only lower bounds:        4\n",
      "                variables with lower and upper bounds:        0\n",
      "                     variables with only upper bounds:        0\n",
      "Total number of equality constraints.................:        1\n",
      "Total number of inequality constraints...............:        0\n",
      "        inequality constraints with only lower bounds:        0\n",
      "   inequality constraints with lower and upper bounds:        0\n",
      "        inequality constraints with only upper bounds:        0\n",
      "\n",
      "iter    objective    inf_pr   inf_du lg(mu)  ||d||  lg(rg) alpha_du alpha_pr  ls\n",
      "   0 -2.8101469e-01 5.60e-01 3.61e-01  -1.0 0.00e+00    -  0.00e+00 0.00e+00   0\n",
      "   1 -6.4043400e-01 0.00e+00 1.24e+01  -1.7 1.44e-01    -  7.41e-02 1.00e+00f  1\n",
      "   2 -8.3359428e-01 2.22e-16 1.06e+01  -1.7 2.83e+00    -  1.55e-01 1.41e-01f  1\n",
      "   3 -7.4917079e-01 0.00e+00 5.33e+00  -1.7 3.41e-01    -  1.00e+00 5.00e-01f  2\n",
      "   4 -8.0069652e-01 2.22e-16 2.00e-07  -1.7 1.04e-01    -  1.00e+00 1.00e+00f  1\n",
      "   5 -8.4942788e-01 1.11e-16 8.65e-03  -3.8 1.02e-01    -  8.31e-01 1.00e+00f  1\n",
      "   6 -8.5475737e-01 0.00e+00 1.50e-09  -3.8 1.13e-02    -  1.00e+00 1.00e+00f  1\n",
      "   7 -8.5520001e-01 0.00e+00 1.84e-11  -5.7 9.28e-04    -  1.00e+00 1.00e+00f  1\n",
      "   8 -8.5520577e-01 1.11e-16 2.51e-14  -8.6 1.21e-05    -  1.00e+00 1.00e+00f  1\n",
      "\n",
      "Number of Iterations....: 8\n",
      "\n",
      "                                   (scaled)                 (unscaled)\n",
      "Objective...............:  -8.5520576789987401e-01   -8.5520576789987401e-01\n",
      "Dual infeasibility......:   2.5091040356528538e-14    2.5091040356528538e-14\n",
      "Constraint violation....:   1.1102230246251565e-16    1.1102230246251565e-16\n",
      "Complementarity.........:   2.5177969668897046e-09    2.5177969668897046e-09\n",
      "Overall NLP error.......:   2.5177969668897046e-09    2.5177969668897046e-09\n",
      "\n",
      "\n",
      "Number of objective function evaluations             = 10\n",
      "Number of objective gradient evaluations             = 9\n",
      "Number of equality constraint evaluations            = 10\n",
      "Number of inequality constraint evaluations          = 0\n",
      "Number of equality constraint Jacobian evaluations   = 9\n",
      "Number of inequality constraint Jacobian evaluations = 0\n",
      "Number of Lagrangian Hessian evaluations             = 8\n",
      "Total CPU secs in IPOPT (w/o function evaluations)   =      0.003\n",
      "Total CPU secs in NLP function evaluations           =      0.000\n",
      "\n",
      "EXIT: Optimal Solution Found.\n"
     ]
    }
   ],
   "source": [
    "# run optimizer\n",
    "\n",
    "JuMP.optimize!(model)"
   ]
  },
  {
   "cell_type": "code",
   "execution_count": 116,
   "metadata": {},
   "outputs": [
    {
     "data": {
      "text/plain": [
       "0.855205767899874"
      ]
     },
     "execution_count": 116,
     "metadata": {},
     "output_type": "execute_result"
    }
   ],
   "source": [
    "# extract objective value\n",
    "\n",
    "JuMP.objective_value(model)"
   ]
  },
  {
   "cell_type": "code",
   "execution_count": 121,
   "metadata": {},
   "outputs": [
    {
     "data": {
      "text/plain": [
       "4-element Array{Float64,1}:\n",
       " 0.1               \n",
       " 0.7000000141711354\n",
       " 0.1               \n",
       " 0.1               "
      ]
     },
     "execution_count": 121,
     "metadata": {},
     "output_type": "execute_result"
    }
   ],
   "source": [
    "# extract weight variables\n",
    "\n",
    "weights = JuMP.value.(x)"
   ]
  },
  {
   "cell_type": "code",
   "execution_count": 123,
   "metadata": {},
   "outputs": [],
   "source": [
    "# write weight variables to txt\n",
    "\n",
    "outfile = \"tmp/weights.txt\"\n",
    "open(outfile, \"w\") do f\n",
    "  for i in weights\n",
    "    println(f, i)\n",
    "  end\n",
    "end "
   ]
  },
  {
   "cell_type": "code",
   "execution_count": null,
   "metadata": {},
   "outputs": [],
   "source": []
  }
 ],
 "metadata": {
  "kernelspec": {
   "display_name": "Julia 1.3.1",
   "language": "julia",
   "name": "julia-1.3"
  },
  "language_info": {
   "file_extension": ".jl",
   "mimetype": "application/julia",
   "name": "julia",
   "version": "1.3.1"
  }
 },
 "nbformat": 4,
 "nbformat_minor": 2
}
