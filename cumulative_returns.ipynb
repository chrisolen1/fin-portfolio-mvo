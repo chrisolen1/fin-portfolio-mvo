{
 "cells": [
  {
   "cell_type": "code",
   "execution_count": 28,
   "metadata": {},
   "outputs": [],
   "source": [
    "import pandas as pd \n",
    "import numpy as np\n",
    "\n",
    "import os\n",
    "\n",
    "import matplotlib.pyplot as plt"
   ]
  },
  {
   "cell_type": "code",
   "execution_count": 29,
   "metadata": {},
   "outputs": [],
   "source": [
    "wkdir = \"/Users/chrisolen/Documents/uchicago_courses/deep_learning_and_image_recognition/finance/fin-portfolio-mvo/\"\n",
    "data_files = os.listdir(wkdir+'data')\n",
    "data_files.remove('.DS_Store')\n",
    "\n",
    "data = pd.read_csv(wkdir+'data/'+'data_cleaned.csv')\n",
    "\n",
    "assets = ['VNQ_VANGREALEST','EMB_USDEMRGBOND','LQD_CORPBOND',\n",
    "            'MUB_MUNIBOND','SHY_1-3USTR','VIG_VANGDIV','IVV_SP500','EEM_MSCIEMERGING',\n",
    "            'XLE_ENERGYSPDR','EFA_MSCIEAFE','TIP_TIPSBOND']\n",
    "\n",
    "# specify burn-in period\n",
    "burn_in_length = 400\n",
    "\n",
    "# load in portfolio values\n",
    "portfolio = data[assets]\n",
    "\n",
    "# remove burn-in period for which we are not making investment decisions\n",
    "# first set of predicted weights apply to cum_returns for burn_in_length+2 \n",
    "# because they are based on prediction for time_step burn_in_length+2\n",
    "# burn_in_length+1 is for the initial portfolio weights which favor all assets equally\n",
    "\n",
    "portfolio_day_one = portfolio.iloc[burn_in_length+1:,:] \n",
    "portfolio = portfolio.iloc[burn_in_length+2:,:].reset_index().drop(['index'], axis=1)\n",
    "\n",
    "# load in daily weights\n",
    "daily_portfolio_weights = pd.read_csv(\"daily_portfolio_weights.csv\")\n",
    "daily_portfolio_weights.drop([\"Unnamed: 0\"], axis=1, inplace=True)\n",
    "daily_portfolio_weights = daily_portfolio_weights.iloc[:-1,:] # remove last sample\n",
    "\n",
    "# arbitrary\n",
    "total_shares = 1000\n"
   ]
  },
  {
   "cell_type": "code",
   "execution_count": 30,
   "metadata": {},
   "outputs": [
    {
     "data": {
      "text/plain": [
       "VNQ_VANGREALEST     3465.454545\n",
       "EMB_USDEMRGBOND     8882.727273\n",
       "LQD_CORPBOND        9368.181818\n",
       "MUB_MUNIBOND        9167.272727\n",
       "SHY_1-3USTR         7585.454545\n",
       "VIG_VANGDIV         3867.272727\n",
       "IVV_SP500           9090.909091\n",
       "EEM_MSCIEMERGING    3221.818182\n",
       "XLE_ENERGYSPDR      4573.636364\n",
       "EFA_MSCIEAFE        1532.727273\n",
       "TIP_TIPSBOND        9155.454545\n",
       "Name: 401, dtype: float64"
      ]
     },
     "execution_count": 30,
     "metadata": {},
     "output_type": "execute_result"
    }
   ],
   "source": [
    "# for time-step burn-in-period + 1\n",
    "\n",
    "# initially the portfolio has equal shares per asset\n",
    "initial_share_per_asset = np.repeat(total_shares/portfolio_day_one.shape[1], portfolio_day_one.shape[1])\n",
    "# element-wise multiply initial shares per asset with asset values at burn-in-period + 1\n",
    "initial_value = initial_share_per_asset * portfolio_day_one.iloc[0,:]\n",
    "initial_value"
   ]
  },
  {
   "cell_type": "code",
   "execution_count": 31,
   "metadata": {},
   "outputs": [
    {
     "data": {
      "text/html": [
       "<div>\n",
       "<style scoped>\n",
       "    .dataframe tbody tr th:only-of-type {\n",
       "        vertical-align: middle;\n",
       "    }\n",
       "\n",
       "    .dataframe tbody tr th {\n",
       "        vertical-align: top;\n",
       "    }\n",
       "\n",
       "    .dataframe thead th {\n",
       "        text-align: right;\n",
       "    }\n",
       "</style>\n",
       "<table border=\"1\" class=\"dataframe\">\n",
       "  <thead>\n",
       "    <tr style=\"text-align: right;\">\n",
       "      <th></th>\n",
       "      <th>VNQ_VANGREALEST</th>\n",
       "      <th>EMB_USDEMRGBOND</th>\n",
       "      <th>LQD_CORPBOND</th>\n",
       "      <th>MUB_MUNIBOND</th>\n",
       "      <th>SHY_1-3USTR</th>\n",
       "      <th>VIG_VANGDIV</th>\n",
       "      <th>IVV_SP500</th>\n",
       "      <th>EEM_MSCIEMERGING</th>\n",
       "      <th>XLE_ENERGYSPDR</th>\n",
       "      <th>EFA_MSCIEAFE</th>\n",
       "      <th>TIP_TIPSBOND</th>\n",
       "    </tr>\n",
       "  </thead>\n",
       "  <tbody>\n",
       "    <tr>\n",
       "      <th>0</th>\n",
       "      <td>0.384000</td>\n",
       "      <td>0.974400</td>\n",
       "      <td>1.021500</td>\n",
       "      <td>1.011200</td>\n",
       "      <td>0.834700</td>\n",
       "      <td>0.429200</td>\n",
       "      <td>91.008002</td>\n",
       "      <td>0.357600</td>\n",
       "      <td>0.508500</td>\n",
       "      <td>0.169400</td>\n",
       "      <td>1.003201</td>\n",
       "    </tr>\n",
       "    <tr>\n",
       "      <th>1</th>\n",
       "      <td>0.386000</td>\n",
       "      <td>0.969100</td>\n",
       "      <td>1.031400</td>\n",
       "      <td>1.010200</td>\n",
       "      <td>0.836100</td>\n",
       "      <td>0.430400</td>\n",
       "      <td>91.692001</td>\n",
       "      <td>0.363800</td>\n",
       "      <td>0.514700</td>\n",
       "      <td>0.171100</td>\n",
       "      <td>1.006501</td>\n",
       "    </tr>\n",
       "    <tr>\n",
       "      <th>2</th>\n",
       "      <td>0.382800</td>\n",
       "      <td>0.977300</td>\n",
       "      <td>1.031200</td>\n",
       "      <td>1.013500</td>\n",
       "      <td>0.836700</td>\n",
       "      <td>0.426700</td>\n",
       "      <td>90.945000</td>\n",
       "      <td>0.357200</td>\n",
       "      <td>0.507100</td>\n",
       "      <td>0.170500</td>\n",
       "      <td>1.005401</td>\n",
       "    </tr>\n",
       "    <tr>\n",
       "      <th>3</th>\n",
       "      <td>0.362400</td>\n",
       "      <td>0.970700</td>\n",
       "      <td>1.032900</td>\n",
       "      <td>1.013500</td>\n",
       "      <td>0.837600</td>\n",
       "      <td>0.419200</td>\n",
       "      <td>88.712999</td>\n",
       "      <td>0.343200</td>\n",
       "      <td>0.490700</td>\n",
       "      <td>0.166501</td>\n",
       "      <td>1.009001</td>\n",
       "    </tr>\n",
       "    <tr>\n",
       "      <th>4</th>\n",
       "      <td>0.366000</td>\n",
       "      <td>0.968700</td>\n",
       "      <td>1.030300</td>\n",
       "      <td>1.016801</td>\n",
       "      <td>0.837400</td>\n",
       "      <td>0.421450</td>\n",
       "      <td>89.567998</td>\n",
       "      <td>0.350700</td>\n",
       "      <td>0.495600</td>\n",
       "      <td>0.168201</td>\n",
       "      <td>1.011201</td>\n",
       "    </tr>\n",
       "    <tr>\n",
       "      <th>...</th>\n",
       "      <td>...</td>\n",
       "      <td>...</td>\n",
       "      <td>...</td>\n",
       "      <td>...</td>\n",
       "      <td>...</td>\n",
       "      <td>...</td>\n",
       "      <td>...</td>\n",
       "      <td>...</td>\n",
       "      <td>...</td>\n",
       "      <td>...</td>\n",
       "      <td>...</td>\n",
       "    </tr>\n",
       "    <tr>\n",
       "      <th>2552</th>\n",
       "      <td>0.919804</td>\n",
       "      <td>1.123905</td>\n",
       "      <td>1.272406</td>\n",
       "      <td>1.141305</td>\n",
       "      <td>0.848704</td>\n",
       "      <td>1.162305</td>\n",
       "      <td>2.896312</td>\n",
       "      <td>0.402702</td>\n",
       "      <td>0.564103</td>\n",
       "      <td>0.256101</td>\n",
       "      <td>104.687949</td>\n",
       "    </tr>\n",
       "    <tr>\n",
       "      <th>2553</th>\n",
       "      <td>0.928704</td>\n",
       "      <td>1.129305</td>\n",
       "      <td>1.277405</td>\n",
       "      <td>1.143705</td>\n",
       "      <td>0.850504</td>\n",
       "      <td>1.168905</td>\n",
       "      <td>2.920412</td>\n",
       "      <td>0.407902</td>\n",
       "      <td>0.570202</td>\n",
       "      <td>0.257301</td>\n",
       "      <td>105.020951</td>\n",
       "    </tr>\n",
       "    <tr>\n",
       "      <th>2554</th>\n",
       "      <td>0.934304</td>\n",
       "      <td>1.139205</td>\n",
       "      <td>1.282705</td>\n",
       "      <td>1.143705</td>\n",
       "      <td>0.850404</td>\n",
       "      <td>1.184705</td>\n",
       "      <td>2.960213</td>\n",
       "      <td>0.409702</td>\n",
       "      <td>0.573802</td>\n",
       "      <td>0.259201</td>\n",
       "      <td>105.344950</td>\n",
       "    </tr>\n",
       "    <tr>\n",
       "      <th>2555</th>\n",
       "      <td>0.932304</td>\n",
       "      <td>1.132805</td>\n",
       "      <td>1.276206</td>\n",
       "      <td>1.142805</td>\n",
       "      <td>0.849504</td>\n",
       "      <td>1.178205</td>\n",
       "      <td>2.946913</td>\n",
       "      <td>0.406302</td>\n",
       "      <td>0.568703</td>\n",
       "      <td>0.259701</td>\n",
       "      <td>105.056947</td>\n",
       "    </tr>\n",
       "    <tr>\n",
       "      <th>2556</th>\n",
       "      <td>0.927404</td>\n",
       "      <td>1.131705</td>\n",
       "      <td>1.275106</td>\n",
       "      <td>1.146105</td>\n",
       "      <td>0.850004</td>\n",
       "      <td>1.161105</td>\n",
       "      <td>2.901313</td>\n",
       "      <td>0.403402</td>\n",
       "      <td>0.559003</td>\n",
       "      <td>0.257501</td>\n",
       "      <td>104.957946</td>\n",
       "    </tr>\n",
       "  </tbody>\n",
       "</table>\n",
       "<p>2557 rows × 11 columns</p>\n",
       "</div>"
      ],
      "text/plain": [
       "      VNQ_VANGREALEST  EMB_USDEMRGBOND  LQD_CORPBOND  MUB_MUNIBOND  \\\n",
       "0            0.384000         0.974400      1.021500      1.011200   \n",
       "1            0.386000         0.969100      1.031400      1.010200   \n",
       "2            0.382800         0.977300      1.031200      1.013500   \n",
       "3            0.362400         0.970700      1.032900      1.013500   \n",
       "4            0.366000         0.968700      1.030300      1.016801   \n",
       "...               ...              ...           ...           ...   \n",
       "2552         0.919804         1.123905      1.272406      1.141305   \n",
       "2553         0.928704         1.129305      1.277405      1.143705   \n",
       "2554         0.934304         1.139205      1.282705      1.143705   \n",
       "2555         0.932304         1.132805      1.276206      1.142805   \n",
       "2556         0.927404         1.131705      1.275106      1.146105   \n",
       "\n",
       "      SHY_1-3USTR  VIG_VANGDIV  IVV_SP500  EEM_MSCIEMERGING  XLE_ENERGYSPDR  \\\n",
       "0        0.834700     0.429200  91.008002          0.357600        0.508500   \n",
       "1        0.836100     0.430400  91.692001          0.363800        0.514700   \n",
       "2        0.836700     0.426700  90.945000          0.357200        0.507100   \n",
       "3        0.837600     0.419200  88.712999          0.343200        0.490700   \n",
       "4        0.837400     0.421450  89.567998          0.350700        0.495600   \n",
       "...           ...          ...        ...               ...             ...   \n",
       "2552     0.848704     1.162305   2.896312          0.402702        0.564103   \n",
       "2553     0.850504     1.168905   2.920412          0.407902        0.570202   \n",
       "2554     0.850404     1.184705   2.960213          0.409702        0.573802   \n",
       "2555     0.849504     1.178205   2.946913          0.406302        0.568703   \n",
       "2556     0.850004     1.161105   2.901313          0.403402        0.559003   \n",
       "\n",
       "      EFA_MSCIEAFE  TIP_TIPSBOND  \n",
       "0         0.169400      1.003201  \n",
       "1         0.171100      1.006501  \n",
       "2         0.170500      1.005401  \n",
       "3         0.166501      1.009001  \n",
       "4         0.168201      1.011201  \n",
       "...            ...           ...  \n",
       "2552      0.256101    104.687949  \n",
       "2553      0.257301    105.020951  \n",
       "2554      0.259201    105.344950  \n",
       "2555      0.259701    105.056947  \n",
       "2556      0.257501    104.957946  \n",
       "\n",
       "[2557 rows x 11 columns]"
      ]
     },
     "execution_count": 31,
     "metadata": {},
     "output_type": "execute_result"
    }
   ],
   "source": [
    "# calculate \n",
    "\n",
    "portfolio_values = portfolio * daily_portfolio_weights\n",
    "portfolio_values"
   ]
  },
  {
   "cell_type": "code",
   "execution_count": 32,
   "metadata": {},
   "outputs": [],
   "source": [
    "cumulative_portfolio_value = portfolio_values.sum(axis=1)"
   ]
  },
  {
   "cell_type": "code",
   "execution_count": 33,
   "metadata": {},
   "outputs": [
    {
     "data": {
      "text/plain": [
       "[<matplotlib.lines.Line2D at 0x1143dc190>]"
      ]
     },
     "execution_count": 33,
     "metadata": {},
     "output_type": "execute_result"
    },
    {
     "data": {
      "image/png": "[encoded data removed]",
      "text/plain": [
       "<Figure size 432x288 with 1 Axes>"
      ]
     },
     "metadata": {
      "needs_background": "light"
     },
     "output_type": "display_data"
    }
   ],
   "source": [
    "plt.plot(cumulative_portfolio_value)"
   ]
  },
  {
   "cell_type": "code",
   "execution_count": 45,
   "metadata": {},
   "outputs": [],
   "source": [
    "log_returns = np.log(portfolio/portfolio.shift(1)).dropna()"
   ]
  },
  {
   "cell_type": "code",
   "execution_count": 46,
   "metadata": {},
   "outputs": [],
   "source": [
    "portfolio_daily_returns = log_returns * daily_portfolio_weights.iloc[:-1,:]"
   ]
  },
  {
   "cell_type": "code",
   "execution_count": 49,
   "metadata": {},
   "outputs": [],
   "source": [
    "cumulative_portfolio_daily_returns = portfolio_daily_returns.sum(axis=1)"
   ]
  },
  {
   "cell_type": "code",
   "execution_count": 52,
   "metadata": {},
   "outputs": [],
   "source": [
    "cumulative_returns = np.cumsum(cumulative_portfolio_daily_returns)"
   ]
  },
  {
   "cell_type": "code",
   "execution_count": 54,
   "metadata": {},
   "outputs": [
    {
     "data": {
      "text/plain": [
       "[<matplotlib.lines.Line2D at 0x11494b4d0>]"
      ]
     },
     "execution_count": 54,
     "metadata": {},
     "output_type": "execute_result"
    },
    {
     "data": {
      "image/png": "[encoded data removed]",
      "text/plain": [
       "<Figure size 432x288 with 1 Axes>"
      ]
     },
     "metadata": {
      "needs_background": "light"
     },
     "output_type": "display_data"
    }
   ],
   "source": [
    "plt.plot(cumulative_returns)"
   ]
  },
  {
   "cell_type": "code",
   "execution_count": null,
   "metadata": {},
   "outputs": [],
   "source": []
  }
 ],
 "metadata": {
  "kernelspec": {
   "display_name": "Python 3",
   "language": "python",
   "name": "python3"
  },
  "language_info": {
   "codemirror_mode": {
    "name": "ipython",
    "version": 3
   },
   "file_extension": ".py",
   "mimetype": "text/x-python",
   "name": "python",
   "nbconvert_exporter": "python",
   "pygments_lexer": "ipython3",
   "version": "3.7.4"
  }
 },
 "nbformat": 4,
 "nbformat_minor": 2
}
